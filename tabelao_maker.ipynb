{
 "cells": [
  {
   "cell_type": "code",
   "execution_count": 1,
   "metadata": {},
   "outputs": [],
   "source": [
    "import pandas as pd\n",
    "import numpy as np\n",
    "import matplotlib.pyplot as plt\n",
    "import glob"
   ]
  },
  {
   "cell_type": "code",
   "execution_count": 16,
   "metadata": {},
   "outputs": [],
   "source": [
    "file_list = glob.glob('/home/tomas/Documentos/Projetos/Violencia_Brasil/Dados_UF/*.csv')\n",
    "file_list = sorted(file_list)\n",
    "\n",
    "tabelao_UF = pd.DataFrame()\n",
    "\n",
    "for file in file_list:\n",
    "    df = pd.read_csv(file, sep=';')\n",
    "    \n",
    "    last_slash_index = file.rfind('/')\n",
    "    extension_index = file.rfind('.')\n",
    "    desired_text = file[last_slash_index + 1:extension_index]\n",
    "    \n",
    "    df.rename(columns={'nome': 'UF',\n",
    "                       'período': 'periodo',\n",
    "                       'valor': desired_text}, inplace=True)\n",
    "    \n",
    "    if tabelao_UF.empty:\n",
    "        tabelao_UF = df.drop(axis=1, labels='cod')\n",
    "    else:\n",
    "        tabelao_UF = pd.merge(tabelao_UF, df[['UF', 'periodo', desired_text]], on=['UF', 'periodo'], how='outer')\n",
    "\n",
    "tabelao_UF = tabelao_UF.sort_values(by=['periodo', 'UF'], ascending=False)\n"
   ]
  },
  {
   "cell_type": "code",
   "execution_count": 17,
   "metadata": {},
   "outputs": [],
   "source": [
    "file_list = glob.glob('/home/tomas/Documentos/Projetos/Violencia_Brasil/Dados_Regiao/*.csv')\n",
    "file_list = sorted(file_list)\n",
    "\n",
    "tabelao_regiao = pd.DataFrame()\n",
    "\n",
    "for file in file_list:\n",
    "    df = pd.read_csv(file, sep=';')\n",
    "    \n",
    "    last_slash_index = file.rfind('/')\n",
    "    extension_index = file.rfind('.')\n",
    "    desired_text = file[last_slash_index + 1:extension_index]\n",
    "    \n",
    "    df.rename(columns={'nome': 'Regiao',\n",
    "                       'período': 'periodo',\n",
    "                       'valor': desired_text}, inplace=True)\n",
    "    \n",
    "    if tabelao_regiao.empty:\n",
    "        tabelao_regiao = df.drop(axis=1, labels='cod')\n",
    "    else:\n",
    "        tabelao_regiao = pd.merge(tabelao_regiao, df[['Regiao', 'periodo', desired_text]], on=['Regiao', 'periodo'], how='outer')\n",
    "\n",
    "tabelao_regiao = tabelao_regiao.sort_values(by=['periodo', 'Regiao'], ascending=False)\n"
   ]
  },
  {
   "cell_type": "code",
   "execution_count": 18,
   "metadata": {},
   "outputs": [],
   "source": [
    "tabelao_UF.to_csv('tabelao_UF.csv', index=False)\n",
    "tabelao_regiao.to_csv('tabelao_regiao.csv', index=False)\n"
   ]
  }
 ],
 "metadata": {
  "kernelspec": {
   "display_name": "violencia_brasil",
   "language": "python",
   "name": "python3"
  },
  "language_info": {
   "codemirror_mode": {
    "name": "ipython",
    "version": 3
   },
   "file_extension": ".py",
   "mimetype": "text/x-python",
   "name": "python",
   "nbconvert_exporter": "python",
   "pygments_lexer": "ipython3",
   "version": "3.12.2"
  }
 },
 "nbformat": 4,
 "nbformat_minor": 2
}
